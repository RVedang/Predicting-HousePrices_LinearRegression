{
 "cells": [
  {
   "cell_type": "code",
   "execution_count": 1,
   "id": "sealed-revolution",
   "metadata": {},
   "outputs": [],
   "source": [
    "#importing the libraries\n",
    "import numpy as np\n",
    "import pandas as pd"
   ]
  },
  {
   "cell_type": "code",
   "execution_count": 2,
   "id": "velvet-christopher",
   "metadata": {
    "scrolled": true
   },
   "outputs": [],
   "source": [
    "#reading the data\n",
    "df = pd.read_csv(\"FoDS-Assignment-2.csv\")\n",
    "\n",
    "# shuffle the DataFrame rows\n",
    "df = df.sample(frac = 1)\n",
    "df = df.dropna(axis = 0)"
   ]
  },
  {
   "cell_type": "code",
   "execution_count": 3,
   "id": "latest-oklahoma",
   "metadata": {},
   "outputs": [],
   "source": [
    "X = df.iloc[:, :-1].values\n",
    "y = df.iloc[:, -1].values\n",
    "\n",
    "#splitting the dataset into training data and testing data\n",
    "splitData = int(0.7*len(X))\n",
    "train_X, test_X, train_y, test_y = X[:splitData], X[splitData:], y[:splitData],  y[splitData:]"
   ]
  },
  {
   "cell_type": "code",
   "execution_count": 4,
   "id": "specific-grass",
   "metadata": {},
   "outputs": [],
   "source": [
    "WeightV = np.zeros(13)\n",
    "for n in range(13):\n",
    "    WeightV[n] = np.random.randn()  "
   ]
  },
  {
   "cell_type": "code",
   "execution_count": 5,
   "id": "greek-claim",
   "metadata": {},
   "outputs": [],
   "source": [
    "def fit(X, Y, iterations, learning_rate, c, d):\n",
    "    global bias\n",
    "    bias = 0  \n",
    "    WeightV = np.zeros(13)\n",
    "                \n",
    "    for itr in range(iterations):\n",
    "        sumItrError = 0\n",
    "        \n",
    "        for z in range(len(Y)):    # for each row in input data\n",
    "            column = Y[z]               # contains pressure\n",
    "            dataP_error = 0            # variable for calculating error in each data point\n",
    "            \n",
    "            for m in range(13):\n",
    "                dataP_error += (c[m] + d[m]) * WeightV[m] * X[z][m]    # summation of (w0+ w1*x1 + w2*x1^2 + w3*x1*x2 + w4*x2^2 ...)\n",
    "            \n",
    "            dataP_error = bias\n",
    "            dataP_error -= column                    # (w0 + w1*x1 + w2*x1^2 + w3*x1*x2 + w4*x2^2 ...) - yn\n",
    "                \n",
    "             # for each parameter(w0,w1,w2,...)    \n",
    "            for m in range(13):\n",
    "                WeightV[m] -= (learning_rate/len(X)) * dataP_error * X[z][m] # calculating w0,w1,w2,... for each iteration\n",
    "            bias -= (learning_rate/len(X)) * dataP_error        \n",
    "            sumItrError +=  dataP_error**2/len(Y)  \n",
    "        sumItrError = (0.5*sumItrError)**0.5\n",
    "    return sumItrError"
   ]
  },
  {
   "cell_type": "code",
   "execution_count": 6,
   "id": "permanent-coast",
   "metadata": {},
   "outputs": [],
   "source": [
    "def predict(X, Y, c, d):\n",
    "    sumItrError = 0\n",
    "    for z in range(len(Y)):        # each row in input data\n",
    "        dataP_error = 0            # calculating error in each data point\n",
    "          \n",
    "        for m in range(13):\n",
    "            dataP_error += (c[m] + d[m]) * WeightV[m] * X[z][m]    # summation of (w1*x1 + w2*x2 + w3*x3 + w4*x4 ...)\n",
    "        dataP_error += bias\n",
    "        dataP_error -= Y[z]      # (w0 + w1*x1 + w2*x1^2 + w3*x1*x2 + w4*x2^2 ...) - yn\n",
    "\n",
    "        sumItrError +=  dataP_error**2/len(Y) \n",
    "        \n",
    "    sumItrError = (0.5*sumItrError)**0.5\n",
    "    return sumItrError    "
   ]
  },
  {
   "cell_type": "code",
   "execution_count": 7,
   "id": "packed-first",
   "metadata": {
    "scrolled": false
   },
   "outputs": [
    {
     "name": "stdout",
     "output_type": "stream",
     "text": [
      "Minimum training error is  296215.424180011\n",
      "Minimum testing error is  336937.5831575761\n"
     ]
    }
   ],
   "source": [
    "c = np.ones(13)\n",
    "d = np.zeros(13)\n",
    "\n",
    "#fitting the training data\n",
    "trainingE = fit(train_X, train_y, 100, 0.01, c, d)\n",
    "print(\"Minimum training error is \", trainingE)\n",
    "\n",
    "#making predictions on test data\n",
    "testingE = predict(test_X, test_y, c, d)\n",
    "print(\"Minimum testing error is \", testingE)"
   ]
  }
 ],
 "metadata": {
  "kernelspec": {
   "display_name": "Python 3",
   "language": "python",
   "name": "python3"
  },
  "language_info": {
   "codemirror_mode": {
    "name": "ipython",
    "version": 3
   },
   "file_extension": ".py",
   "mimetype": "text/x-python",
   "name": "python",
   "nbconvert_exporter": "python",
   "pygments_lexer": "ipython3",
   "version": "3.9.1"
  }
 },
 "nbformat": 4,
 "nbformat_minor": 5
}
