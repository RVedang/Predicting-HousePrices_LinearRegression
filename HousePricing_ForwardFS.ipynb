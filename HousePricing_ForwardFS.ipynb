{
 "cells": [
  {
   "cell_type": "code",
   "execution_count": 1,
   "id": "sealed-revolution",
   "metadata": {},
   "outputs": [],
   "source": [
    "#importing the libraries\n",
    "import numpy as np\n",
    "import pandas as pd"
   ]
  },
  {
   "cell_type": "code",
   "execution_count": 2,
   "id": "velvet-christopher",
   "metadata": {
    "scrolled": true
   },
   "outputs": [
    {
     "data": {
      "text/plain": [
       "bedrooms          0\n",
       "bathrooms         0\n",
       "sqft_living      14\n",
       "sqft_lot          0\n",
       "floors           13\n",
       "waterfront        0\n",
       "view              0\n",
       "condition         0\n",
       "grade             0\n",
       "sqft_above       14\n",
       "sqft_basement     0\n",
       "sqft_living15     0\n",
       "sqft_lot15        0\n",
       "price             0\n",
       "dtype: int64"
      ]
     },
     "execution_count": 2,
     "metadata": {},
     "output_type": "execute_result"
    }
   ],
   "source": [
    "#reading the data\n",
    "df = pd.read_csv(\"FoDS-Assignment-2.csv\")\n",
    "\n",
    "# shuffle the DataFrame rows\n",
    "df = df.sample(frac = 1)\n",
    "\n",
    "df.isnull().sum()"
   ]
  },
  {
   "cell_type": "code",
   "execution_count": 3,
   "id": "academic-provider",
   "metadata": {},
   "outputs": [
    {
     "data": {
      "text/plain": [
       "bedrooms         0\n",
       "bathrooms        0\n",
       "sqft_living      0\n",
       "sqft_lot         0\n",
       "floors           0\n",
       "waterfront       0\n",
       "view             0\n",
       "condition        0\n",
       "grade            0\n",
       "sqft_above       0\n",
       "sqft_basement    0\n",
       "sqft_living15    0\n",
       "sqft_lot15       0\n",
       "price            0\n",
       "dtype: int64"
      ]
     },
     "execution_count": 3,
     "metadata": {},
     "output_type": "execute_result"
    }
   ],
   "source": [
    "df['sqft_living'] = df.fillna(value = df['sqft_living'].mean())\n",
    "df['floors'] = df.fillna(value = df['floors'].mean())\n",
    "df['sqft_above'] = df.fillna(value = df['sqft_above'].mean())\n",
    "\n",
    "df.isnull().sum()"
   ]
  },
  {
   "cell_type": "code",
   "execution_count": 4,
   "id": "fabulous-florida",
   "metadata": {},
   "outputs": [],
   "source": [
    "Features_list = [\"bedrooms\", \"bathrooms\", \"sqft_living\", \"sqft_lot\", \"floors\", \"waterfront\", \"view\", \"condition\", \"grade\", \"sqft_above\", \"sqft_basement\", \"sqft_living15\", \"sqft_lot15\"]"
   ]
  },
  {
   "cell_type": "code",
   "execution_count": 5,
   "id": "exclusive-chosen",
   "metadata": {
    "scrolled": true
   },
   "outputs": [],
   "source": [
    "#Feature Scaling\n",
    "#normalising the data values\n",
    "df = (df - df.min()) / (df.max() - df.min())\n",
    "\n",
    "X = df.iloc[:, :-1].values\n",
    "y = df.iloc[:, -1].values"
   ]
  },
  {
   "cell_type": "code",
   "execution_count": 6,
   "id": "radio-momentum",
   "metadata": {},
   "outputs": [],
   "source": [
    "#splitting the dataset into training data and testing data\n",
    "splitData = int(0.7*len(X))\n",
    "train_X, test_X, train_y, test_y = X[:splitData], X[splitData:], y[:splitData], y[splitData:]"
   ]
  },
  {
   "cell_type": "code",
   "execution_count": 7,
   "id": "caring-metro",
   "metadata": {},
   "outputs": [],
   "source": [
    "WeightV = np.zeros(14)\n",
    "for n in range(14):\n",
    "    WeightV[n] = np.random.randn()"
   ]
  },
  {
   "cell_type": "code",
   "execution_count": 8,
   "id": "embedded-spain",
   "metadata": {},
   "outputs": [],
   "source": [
    "#finding the weights based on the training data\n",
    "def fit(X, Y, iters, learning_rate, F_selected, F_trial):\n",
    "    for n in range(14):\n",
    "        WeightV[n] = np.random.randn()\n",
    "    for itr in range(iters):\n",
    "        sumItrError = 0    \n",
    "        for z in range(len(X)):        # each row in input data\n",
    "            dataP_error = 0            # calculating error in each data point\n",
    "            \n",
    "            for m in range(13):\n",
    "                dataP_error += (F_selected[m] + F_trial[m]) * WeightV[m+1] * X[z][m]    # summation of (w1*x1 + w2*x2 + w3*x3 + w4*x4 ...)\n",
    "                \n",
    "            dataP_error += WeightV[0]\n",
    "            dataP_error -= Y[z]      # (w0 + w1*x1 + w2*x1^2 + w3*x1*x2 + w4*x2^2 ...) - yn\n",
    "\n",
    "            # for each parameter(w0, w1, w2,...)    \n",
    "            for m in range(14):                   \n",
    "                if(m == 0):\n",
    "                    WeightV[m] -= (learning_rate/len(X)) * dataP_error\n",
    "                else:\n",
    "                    WeightV[m] -= (learning_rate/len(X)) * dataP_error * X[z][m-1]   # calculating w0, w1, w2,... for each iteration\n",
    "        \n",
    "            dataP_error = (dataP_error**2)\n",
    "            sumItrError += dataP_error/(2*len(Y))\n",
    "            \n",
    "        sumItrError = (sumItrError)**0.5\n",
    "    return sumItrError    "
   ]
  },
  {
   "cell_type": "code",
   "execution_count": 9,
   "id": "portuguese-deployment",
   "metadata": {},
   "outputs": [],
   "source": [
    "# def predict(X, Y, F_selected, F_trial):\n",
    "#     sumItrError = 0\n",
    "#     for z in range(len(X)):        # each row in input data\n",
    "#         dataP_error = 0            # calculating error in each data point\n",
    "            \n",
    "#         for m in range(13):\n",
    "#             dataP_error += (F_selected[m] + F_trial[m]) * WeightV[m+1] * X[z][m]    # summation of (w1*x1 + w2*x2 + w3*x3 + w4*x4 ...)\n",
    "#         dataP_error += WeightV[0]\n",
    "        \n",
    "#         dataP_error -= Y[z]      # (w0 + w1*x1 + w2*x1^2 + w3*x1*x2 + w4*x2^2 ...) - yn\n",
    "#         dataP_error = (dataP_error**2)\n",
    "#         sumItrError += dataP_error/(2*len(X))\n",
    "            \n",
    "#     sumItrError = (sumItrError)**0.5\n",
    "#     return sumItrError "
   ]
  },
  {
   "cell_type": "code",
   "execution_count": 10,
   "id": "characteristic-french",
   "metadata": {},
   "outputs": [
    {
     "name": "stdout",
     "output_type": "stream",
     "text": [
      "[0. 0. 0. 0. 0. 0. 1. 0. 0. 0. 0. 0. 0.]\n",
      "view\n",
      "Minimum error for 1 feature(s) is 0.04659271235352309\n",
      "Minimum error for 2 feature(s) is 0.051209864880621486\n",
      "Minimum error for 3 feature(s) is 0.08062831060329456\n",
      "Minimum error for 4 feature(s) is 0.0970131628707308\n",
      "Minimum error for 5 feature(s) is 0.057381552095481576\n",
      "Minimum error for 6 feature(s) is 0.10531701238859435\n",
      "Minimum error for 7 feature(s) is 0.1115069421776948\n",
      "Minimum error for 8 feature(s) is 0.11595484822058405\n",
      "Minimum error for 9 feature(s) is 0.13723600488611745\n",
      "Minimum error for 10 feature(s) is 0.1739090326484805\n",
      "Minimum error for 11 feature(s) is 0.16340110347108155\n",
      "Minimum error for 12 feature(s) is 0.2120204392815617\n",
      "Minimum error for 13 feature(s) is 0.2883313623190377\n",
      "-----------------------------------------------------------------------------------------------------------------------\n",
      "Minimum training error is  0.04659271235352309\n",
      "Minimum features needed are  1\n",
      "List of features giving minimum training error - \n",
      "bedrooms\n",
      "bathrooms\n",
      "sqft_living\n",
      "sqft_lot\n",
      "floors\n",
      "waterfront\n",
      "view\n",
      "condition\n",
      "grade\n",
      "sqft_above\n",
      "sqft_basement\n",
      "sqft_living15\n",
      "sqft_lot15\n"
     ]
    }
   ],
   "source": [
    "F_selected = np.zeros(13)\n",
    "F_trial = np.zeros(13)\n",
    "finalFeatures = np.zeros(13)\n",
    "finalMinE = float('inf')\n",
    "\n",
    "for i in range(13):\n",
    "    minErrorIn_i = float('inf')\n",
    "    for j in range(13):\n",
    "        if(F_selected[j]==1):\n",
    "            continue\n",
    "        F_trial[j] = 1\n",
    "        error_j = fit(train_X, train_y, 10, 1, F_selected, F_trial)\n",
    "        if(error_j < minErrorIn_i):\n",
    "            minErrorIn_i = error_j\n",
    "            minIndex = j\n",
    "        F_trial[j] = 0\n",
    "    F_selected[minIndex] = 1     \n",
    "    if(minErrorIn_i < finalMinE):\n",
    "        finalMinE = minErrorIn_i\n",
    "        finalIndex = i\n",
    "        finalFeatures = F_selected\n",
    "        print(finalFeatures)\n",
    "        for k in range(13):\n",
    "            if(finalFeatures[k]==1):\n",
    "                print(Features_list[k])\n",
    "    print(\"Minimum error for\", i+1, \"feature(s) is\", minErrorIn_i)\n",
    "\n",
    "print(\"-----------------------------------------------------------------------------------------------------------------------\")    \n",
    "print(\"Minimum training error is \", finalMinE) \n",
    "print(\"Minimum features needed are \", finalIndex+1)   \n",
    "print(\"List of features giving minimum training error - \")\n",
    "for k in range(13):\n",
    "    if(finalFeatures[k]==1):\n",
    "        print(Features_list[k])\n"
   ]
  },
  {
   "cell_type": "code",
   "execution_count": 11,
   "id": "prospective-oklahoma",
   "metadata": {},
   "outputs": [
    {
     "data": {
      "text/plain": [
       "array([1., 1., 1., 1., 1., 1., 1., 1., 1., 1., 1., 1., 1.])"
      ]
     },
     "execution_count": 11,
     "metadata": {},
     "output_type": "execute_result"
    }
   ],
   "source": [
    "finalFeatures"
   ]
  },
  {
   "cell_type": "code",
   "execution_count": 12,
   "id": "flush-reception",
   "metadata": {},
   "outputs": [],
   "source": [
    "# fit(train_X, train_y, 500, 1, finalFeatures, F_trial)\n",
    "\n",
    "# #making predictions on test data\n",
    "# testingE = predict(test_X, test_y, finalFeatures, F_trial)\n",
    "# print(\"Minimum testing error considering these\", finalIndex+1, \"features is\", testingE)\n",
    " "
   ]
  }
 ],
 "metadata": {
  "kernelspec": {
   "display_name": "Python 3",
   "language": "python",
   "name": "python3"
  },
  "language_info": {
   "codemirror_mode": {
    "name": "ipython",
    "version": 3
   },
   "file_extension": ".py",
   "mimetype": "text/x-python",
   "name": "python",
   "nbconvert_exporter": "python",
   "pygments_lexer": "ipython3",
   "version": "3.9.1"
  }
 },
 "nbformat": 4,
 "nbformat_minor": 5
}
